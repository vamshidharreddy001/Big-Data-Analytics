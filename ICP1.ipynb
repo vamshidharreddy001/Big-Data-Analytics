{
  "nbformat": 4,
  "nbformat_minor": 0,
  "metadata": {
    "colab": {
      "provenance": [],
      "authorship_tag": "ABX9TyNgsD1+gDv2MgNkBkoCYtWL",
      "include_colab_link": true
    },
    "kernelspec": {
      "name": "python3",
      "display_name": "Python 3"
    },
    "language_info": {
      "name": "python"
    }
  },
  "cells": [
    {
      "cell_type": "markdown",
      "metadata": {
        "id": "view-in-github",
        "colab_type": "text"
      },
      "source": [
        "<a href=\"https://colab.research.google.com/github/vamshidharreddy001/Big-Data-Analytics/blob/main/ICP1.ipynb\" target=\"_parent\"><img src=\"https://colab.research.google.com/assets/colab-badge.svg\" alt=\"Open In Colab\"/></a>"
      ]
    },
    {
      "cell_type": "code",
      "execution_count": 2,
      "metadata": {
        "colab": {
          "base_uri": "https://localhost:8080/"
        },
        "id": "lbqM9PpLF1uC",
        "outputId": "cedf5e60-821b-4b98-9185-996e83970c42"
      },
      "outputs": [
        {
          "output_type": "stream",
          "name": "stdout",
          "text": [
            "htyp\n"
          ]
        }
      ],
      "source": [
        "a='python'\n",
        "result=a[-3::-1]\n",
        "print(result)"
      ]
    },
    {
      "cell_type": "code",
      "source": [
        "a=int(input(\"Enter a integer\"))\n",
        "b=int(input(\"enter a interger\"))\n",
        "exp=input(\"Enter an expression\")\n",
        "if(exp=='+'):\n",
        "  print(a+b)\n",
        "elif(exp=='-'):\n",
        "  print(a-b)\n",
        "elif(exp=='*'):\n",
        "  print(a*b)\n",
        "elif(exp==\"/\"):\n",
        "  print(a/b)"
      ],
      "metadata": {
        "colab": {
          "base_uri": "https://localhost:8080/"
        },
        "id": "SoHQU1ndGagL",
        "outputId": "6fc6f5ce-cb85-4ee8-8b82-9f0ee25e2f86"
      },
      "execution_count": 4,
      "outputs": [
        {
          "output_type": "stream",
          "name": "stdout",
          "text": [
            "Enter a integer3\n",
            "enter a interger2\n",
            "Enter an expression/\n",
            "1.5\n"
          ]
        }
      ]
    },
    {
      "cell_type": "code",
      "source": [
        "str_1=\"I love playing with python\"\n",
        "str_2=str_1.replace(\"python\",\"pythons\")\n",
        "str_2"
      ],
      "metadata": {
        "colab": {
          "base_uri": "https://localhost:8080/",
          "height": 35
        },
        "id": "ylXkn2s3InOT",
        "outputId": "c5ee5c4f-d51e-4533-9404-4004208dbb01"
      },
      "execution_count": 5,
      "outputs": [
        {
          "output_type": "execute_result",
          "data": {
            "text/plain": [
              "'I love playing with pythons'"
            ],
            "application/vnd.google.colaboratory.intrinsic+json": {
              "type": "string"
            }
          },
          "metadata": {},
          "execution_count": 5
        }
      ]
    },
    {
      "cell_type": "code",
      "source": [
        "grade=int(input(\"Enter your grade\"))\n",
        "if(grade>=90):\n",
        "  print(\"A Grade\")\n",
        "elif(grade>=80):\n",
        "  print(\"B Grade \")\n",
        "elif(grade>=70):\n",
        "  print(\"C Grade\")\n",
        "elif(grade>=60):\n",
        "  print(\"D Grade\")"
      ],
      "metadata": {
        "colab": {
          "base_uri": "https://localhost:8080/"
        },
        "id": "RP4TSHXYJImZ",
        "outputId": "08a4931b-4b13-4a19-8724-e9b3237090a4"
      },
      "execution_count": 6,
      "outputs": [
        {
          "output_type": "stream",
          "name": "stdout",
          "text": [
            "Enter your grade85\n",
            "B Grade \n"
          ]
        }
      ]
    },
    {
      "cell_type": "code",
      "source": [],
      "metadata": {
        "id": "8Ra0zV1zGHH2"
      },
      "execution_count": null,
      "outputs": []
    }
  ]
}
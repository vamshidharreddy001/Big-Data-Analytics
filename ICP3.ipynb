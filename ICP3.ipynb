{
  "nbformat": 4,
  "nbformat_minor": 0,
  "metadata": {
    "colab": {
      "provenance": []
    },
    "kernelspec": {
      "name": "python3",
      "display_name": "Python 3"
    },
    "language_info": {
      "name": "python"
    }
  },
  "cells": [
    {
      "cell_type": "code",
      "execution_count": null,
      "metadata": {
        "colab": {
          "base_uri": "https://localhost:8080/"
        },
        "id": "7FZaGITlJ86X",
        "outputId": "15998d1d-0ae9-48bd-9b58-ef16fe409a46"
      },
      "outputs": [
        {
          "output_type": "stream",
          "name": "stdout",
          "text": [
            "Array shape: (3, 5)\n",
            "[[ 8  1 13  0  8]\n",
            " [ 0  8  1  8 14]\n",
            " [ 4  0  5  5 11]]\n"
          ]
        }
      ],
      "source": [
        "import numpy as np\n",
        "\n",
        "# Creating a random vector of size 15 with integers in the range 1-20\n",
        "random_vector = np.random.randint(1, 21, 15)\n",
        "\n",
        "# Reshape the array to 3 by 5\n",
        "reshaped_array = random_vector.reshape(3, 5)\n",
        "\n",
        "# Print the array shape\n",
        "print(\"Array shape:\", reshaped_array.shape)\n",
        "\n",
        "# Replace the max in each row by 0\n",
        "reshaped_array[np.arange(3), np.argmax(reshaped_array, axis=1)] = 0\n",
        "\n",
        "# Print the modified array\n",
        "print(reshaped_array)\n"
      ]
    },
    {
      "cell_type": "code",
      "source": [
        "import numpy as np\n",
        "\n",
        "# Create a 2-dimensional array of size 4x3 with 4-byte integer elements\n",
        "array_2d = np.empty((4, 3), dtype=np.int32)\n",
        "\n",
        "# Print the shape of the array\n",
        "print(\"Shape of the array:\", array_2d.shape)\n",
        "\n",
        "# Print the type of the array\n",
        "print(\"Type of the array:\", type(array_2d))\n",
        "\n",
        "# Print the data type of the array\n",
        "print(\"Data type of the array:\", array_2d.dtype)\n"
      ],
      "metadata": {
        "colab": {
          "base_uri": "https://localhost:8080/"
        },
        "id": "QPt7R5AYO-k4",
        "outputId": "aef9c267-71c7-45fc-a384-1160499a56ae"
      },
      "execution_count": null,
      "outputs": [
        {
          "output_type": "stream",
          "name": "stdout",
          "text": [
            "Shape of the array: (4, 3)\n",
            "Type of the array: <class 'numpy.ndarray'>\n",
            "Data type of the array: int32\n"
          ]
        }
      ]
    },
    {
      "cell_type": "code",
      "source": [
        "import numpy as np\n",
        "\n",
        "# Create the given array\n",
        "array = np.array([[0, 1, 2],\n",
        "                  [3, 4, 5]])\n",
        "\n",
        "# Compute the sum of diagonal elements\n",
        "diagonal_sum = np.trace(array)\n",
        "\n",
        "# Print the result\n",
        "print(\"Sum of diagonal elements:\", diagonal_sum)\n"
      ],
      "metadata": {
        "colab": {
          "base_uri": "https://localhost:8080/"
        },
        "id": "1xNmNiEPQH1o",
        "outputId": "008c2487-7689-4eb0-bb54-5f499b86fde8"
      },
      "execution_count": null,
      "outputs": [
        {
          "output_type": "stream",
          "name": "stdout",
          "text": [
            "Sum of diagonal elements: 4\n"
          ]
        }
      ]
    },
    {
      "cell_type": "code",
      "source": [
        "import numpy as np\n",
        "\n",
        "# a. Create an array of odd and even numbers between 10 to 70\n",
        "odd_array = np.arange(11, 71, 2)  # Odd numbers from 11 to 71 (inclusive)\n",
        "even_array = np.arange(10, 71, 2)  # Even numbers from 10 to 70 (inclusive)\n",
        "\n",
        "print(\"Odd Array:\")\n",
        "print(odd_array)\n",
        "\n",
        "print(\"\\nEven Array:\")\n",
        "print(even_array)\n",
        "\n",
        "# b. Perform at least three element-wise mathematical operations using two arrays of the same size\n",
        "array1 = np.array([1, 2, 3, 4, 5])\n",
        "array2 = np.array([10, 20, 30, 40, 50])\n",
        "\n",
        "# Element-wise operations\n",
        "addition_result = array1 + array2\n",
        "subtraction_result = array1 - array2\n",
        "multiplication_result = array1 * array2\n",
        "\n",
        "print(\"\\nElement-wise Addition:\")\n",
        "print(addition_result)\n",
        "\n",
        "print(\"\\nElement-wise Subtraction:\")\n",
        "print(subtraction_result)\n",
        "\n",
        "print(\"\\nElement-wise Multiplication:\")\n",
        "print(multiplication_result)\n",
        "\n",
        "# c. Sort a given array by row and column in ascending order\n",
        "array = np.array([[5.54, 3.38, 7.99],\n",
        "                  [3.54, 4.38, 6.99],\n",
        "                  [1.54, 2.39, 9.29]])\n",
        "\n",
        "# Sorting by row\n",
        "sorted_by_row = np.sort(array, axis=1)\n",
        "\n",
        "# Sorting by column\n",
        "sorted_by_column = np.sort(array, axis=0)\n",
        "\n",
        "print(\"\\nSorted by Row:\")\n",
        "print(sorted_by_row)\n",
        "\n",
        "print(\"\\nSorted by Column:\")\n",
        "print(sorted_by_column)\n"
      ],
      "metadata": {
        "colab": {
          "base_uri": "https://localhost:8080/"
        },
        "id": "FJL7bXSwSHtU",
        "outputId": "43899910-823d-4fa4-ae3b-a56303bd2566"
      },
      "execution_count": 7,
      "outputs": [
        {
          "output_type": "stream",
          "name": "stdout",
          "text": [
            "Odd Array:\n",
            "[11 13 15 17 19 21 23 25 27 29 31 33 35 37 39 41 43 45 47 49 51 53 55 57\n",
            " 59 61 63 65 67 69]\n",
            "\n",
            "Even Array:\n",
            "[10 12 14 16 18 20 22 24 26 28 30 32 34 36 38 40 42 44 46 48 50 52 54 56\n",
            " 58 60 62 64 66 68 70]\n",
            "\n",
            "Element-wise Addition:\n",
            "[11 22 33 44 55]\n",
            "\n",
            "Element-wise Subtraction:\n",
            "[ -9 -18 -27 -36 -45]\n",
            "\n",
            "Element-wise Multiplication:\n",
            "[ 10  40  90 160 250]\n",
            "\n",
            "Sorted by Row:\n",
            "[[3.38 5.54 7.99]\n",
            " [3.54 4.38 6.99]\n",
            " [1.54 2.39 9.29]]\n",
            "\n",
            "Sorted by Column:\n",
            "[[1.54 2.39 6.99]\n",
            " [3.54 3.38 7.99]\n",
            " [5.54 4.38 9.29]]\n"
          ]
        }
      ]
    },
    {
      "cell_type": "code",
      "source": [
        "import numpy as np\n",
        "import math\n",
        "\n",
        "# Declare the given array with NaN values\n",
        "array = np.array([[4, 2, np.nan, 1],\n",
        "                  [11, 12, 14, 9],\n",
        "                  [5, np.nan, 1, np.nan]])\n",
        "\n",
        "# Check for missing data (NaN) using isnan() function\n",
        "missing_data = np.isnan(array)\n",
        "\n",
        "# Print the Boolean output (True for missing data, False for non-missing data)\n",
        "print(missing_data)\n"
      ],
      "metadata": {
        "id": "CLnNBWYXS2O5",
        "colab": {
          "base_uri": "https://localhost:8080/"
        },
        "outputId": "389ed05a-6ebe-4511-9a0e-f23371f00812"
      },
      "execution_count": 4,
      "outputs": [
        {
          "output_type": "stream",
          "name": "stdout",
          "text": [
            "[[False False  True False]\n",
            " [False False False False]\n",
            " [False  True False  True]]\n"
          ]
        }
      ]
    }
  ]
}
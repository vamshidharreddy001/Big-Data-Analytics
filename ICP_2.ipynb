{
  "nbformat": 4,
  "nbformat_minor": 0,
  "metadata": {
    "colab": {
      "provenance": []
    },
    "kernelspec": {
      "name": "python3",
      "display_name": "Python 3"
    },
    "language_info": {
      "name": "python"
    }
  },
  "cells": [
    {
      "cell_type": "code",
      "execution_count": null,
      "metadata": {
        "colab": {
          "base_uri": "https://localhost:8080/"
        },
        "id": "SW1rhm2CHLyw",
        "outputId": "9f0ba505-fd06-4fc5-c8bb-ab8023663e9a"
      },
      "outputs": [
        {
          "output_type": "stream",
          "name": "stdout",
          "text": [
            "Sorted Ages: [19, 19, 20, 22, 24, 24, 24, 25, 25, 26]\n",
            "Minimum Age: 19\n",
            "Maximum Age: 26\n",
            "Sorted Ages: [19, 19, 20, 22, 24, 24, 24, 25, 25, 26, 19, 26]\n",
            "Median age: 24.0\n",
            "Average age 22.75\n",
            "Range: 7\n"
          ]
        }
      ],
      "source": [
        "from statistics import * # importing all the statistics modules\n",
        "ages = [19,22,19,24,20,25,26,24,25,24]\n",
        "ages.sort()\n",
        "min_age = ages[0]\n",
        "max_age = ages[-1]\n",
        "print(\"Sorted Ages:\", ages)\n",
        "print(\"Minimum Age:\", min_age)\n",
        "print(\"Maximum Age:\", max_age)\n",
        "# Add the min and max ages back to the list\n",
        "ages.append(min_age)\n",
        "ages.append(max_age)\n",
        "print(\"Sorted Ages:\", ages)\n",
        "# Find the median age\n",
        "mid_value = len(ages) //2\n",
        "if len(ages) % 2 == 0:\n",
        "    median_age = (ages[mid_value - 1] + ages[mid_value]) / 2\n",
        "else:\n",
        "    median_age = ages[mid_value]\n",
        "print(\"Median age:\",median_age )\n",
        "# Find the average age\n",
        "average_age = sum(ages) / len(ages)\n",
        "print(\"Average age\",average_age)\n",
        "# Find the range\n",
        "age_range = max_age - min_age\n",
        "print(\"Range:\",age_range)\n",
        "\n"
      ]
    },
    {
      "cell_type": "code",
      "source": [
        "#Creating an empty dictionary\n",
        "dog={}\n",
        "# Add name, color, breed, legs, and age to the dog dictionary\n",
        "dog[\"name\"] = \"puppy\"\n",
        "dog[\"color\"] = \"brown\"\n",
        "dog[\"breed\"] = \"den\"\n",
        "dog[\"legs\"] = 4\n",
        "dog[\"age\"] = 5\n",
        "\n",
        "# Create a student dictionary\n",
        "student = {\n",
        "    \"first_name\": \"varun\",\n",
        "    \"last_name\": \"venkata\",\n",
        "    \"gender\": \"Male\",\n",
        "    \"age\": 22,\n",
        "    \"marital_status\": \"Single\",\n",
        "    \"skills\": [\"Programming\", \"Problem Solving\"],\n",
        "    \"country\": \"USA\",\n",
        "    \"city\": \"Missouri\",\n",
        "    \"address\": \"313 jackson St\"\n",
        "}\n",
        "\n",
        "#  length of the student dictionary\n",
        "student_length = len(student)\n",
        "\n",
        "#  value of skills and check the data type\n",
        "skills_value = student[\"skills\"]\n",
        "skills_data_type = type(skills_value)\n",
        "\n",
        "# Modify the skills values by adding one or two skills\n",
        "student[\"skills\"].append(\"Communication\")\n",
        "student[\"skills\"].append(\"Teamwork\")\n",
        "\n",
        "# Get the dictionary keys as a list\n",
        "keys_list = list(student.keys())\n",
        "\n",
        "# Get the dictionary values as a list\n",
        "values_list = list(student.values())\n",
        "\n",
        "# Print the results\n",
        "print(\"Dog Dictionary:\", dog)\n",
        "print(\"Student Dictionary:\", student)\n",
        "print(\"Student Dictionary Length:\", student_length)\n",
        "print(\"Skills Data Type:\", skills_data_type)\n",
        "print(\"Modified Skills:\", student[\"skills\"])\n",
        "print(\"Dictionary Keys:\", keys_list)\n",
        "print(\"Dictionary Values:\", values_list)"
      ],
      "metadata": {
        "colab": {
          "base_uri": "https://localhost:8080/"
        },
        "id": "KLuIrcC0Itnw",
        "outputId": "99599679-6cfc-447b-dbd6-90047db160a1"
      },
      "execution_count": null,
      "outputs": [
        {
          "output_type": "stream",
          "name": "stdout",
          "text": [
            "Dog Dictionary: {'name': 'puppy', 'color': 'brown', 'breed': 'den', 'legs': 4, 'age': 5}\n",
            "Student Dictionary: {'first_name': 'varun', 'last_name': 'venkata', 'gender': 'Male', 'age': 22, 'marital_status': 'Single', 'skills': ['Programming', 'Problem Solving', 'Communication', 'Teamwork'], 'country': 'USA', 'city': 'Missouri', 'address': '313 jackson St'}\n",
            "Student Dictionary Length: 9\n",
            "Skills Data Type: <class 'list'>\n",
            "Modified Skills: ['Programming', 'Problem Solving', 'Communication', 'Teamwork']\n",
            "Dictionary Keys: ['first_name', 'last_name', 'gender', 'age', 'marital_status', 'skills', 'country', 'city', 'address']\n",
            "Dictionary Values: ['varun', 'venkata', 'Male', 22, 'Single', ['Programming', 'Problem Solving', 'Communication', 'Teamwork'], 'USA', 'Missouri', '313 jackson St']\n"
          ]
        }
      ]
    },
    {
      "cell_type": "code",
      "source": [
        "it_companies = {'Facebook', 'Google', 'Microsoft', 'Apple', 'IBM', 'Oracle', 'Amazon'}\n",
        "A = {19, 22, 24, 20, 25, 26}\n",
        "B = {19, 22, 20, 25, 26, 24, 28, 27}\n",
        "age = [22, 19, 24, 25, 26, 24, 25, 24]\n",
        "Length_it_c=len(it_companies)\n",
        "print(\" length of it companies\",Length_it_c)\n",
        "# Add 'Twitter' to it_companies\n",
        "it_companies.add('Twitter')\n",
        "print(\"it_companies after adding 'Twitter':\", it_companies)\n",
        "\n",
        "# Insert multiple IT companies at once to the set it_companies\n",
        "it_companies.update(['LinkedIn', 'Netflix'])\n",
        "print(\"it_companies after adding multiple companies:\", it_companies)\n",
        "\n",
        "# Remove one of the companies from the set it_companies\n",
        "it_companies.remove('IBM')\n",
        "print(\"it_companies after removing 'IBM':\", it_companies)\n",
        "\n",
        "# Difference between remove and discard:\n",
        "# - remove: Raises a KeyError if the element is not found.\n",
        "# - discard: Does not raise an error if the element is not found.\n",
        "# Both remove and discard are used to remove elements from a set.\n",
        "\n",
        "# Join A and B\n",
        "joined_set = A.union(B)\n",
        "print(\"A union B:\", joined_set)\n",
        "\n",
        "# Find A intersection B\n",
        "intersection_set = A.intersection(B)\n",
        "print(\"A intersection B:\", intersection_set)\n",
        "\n",
        "# Check if A is a subset of B\n",
        "is_subset = A.issubset(B)\n",
        "print(\"A is a subset of B:\", is_subset)\n",
        "\n",
        "# Check if A and B are disjoint sets\n",
        "are_disjoint = A.isdisjoint(B)\n",
        "print(\"A and B are disjoint sets:\", are_disjoint)\n",
        "\n",
        "# Join A with B and B with A\n",
        "A.update(B)\n",
        "B.update(A)\n",
        "print(\"A after updating with B:\", A)\n",
        "print(\"B after updating with A:\", B)\n",
        "\n",
        "# Symmetric difference between A and B\n",
        "symmetric_diff = A.symmetric_difference(B)\n",
        "print(\"Symmetric difference between A and B:\", symmetric_diff)\n",
        "\n",
        "# Delete the sets completely\n",
        "del it_companies\n",
        "del A\n",
        "del B\n",
        "\n",
        "# Convert the ages to a set and compare the length of the list and the set\n",
        "age_set = set(age)\n",
        "length_of_age_list = len(age)\n",
        "length_of_age_set = len(age_set)\n",
        "print(\"Length of age list:\", length_of_age_list)\n",
        "print(\"Length of age set:\", length_of_age_set)\n",
        "\n"
      ],
      "metadata": {
        "colab": {
          "base_uri": "https://localhost:8080/"
        },
        "id": "jIhmtREJP3aQ",
        "outputId": "2a0f1213-1a0c-407e-85a4-41001830bb3a"
      },
      "execution_count": 1,
      "outputs": [
        {
          "output_type": "stream",
          "name": "stdout",
          "text": [
            " length of it companies 7\n",
            "it_companies after adding 'Twitter': {'Twitter', 'Oracle', 'Facebook', 'Apple', 'Amazon', 'Google', 'Microsoft', 'IBM'}\n",
            "it_companies after adding multiple companies: {'Twitter', 'Microsoft', 'IBM', 'Facebook', 'Apple', 'LinkedIn', 'Netflix', 'Oracle', 'Amazon', 'Google'}\n",
            "it_companies after removing 'IBM': {'Twitter', 'Microsoft', 'Facebook', 'Apple', 'LinkedIn', 'Netflix', 'Oracle', 'Amazon', 'Google'}\n",
            "A union B: {19, 20, 22, 24, 25, 26, 27, 28}\n",
            "A intersection B: {19, 20, 22, 24, 25, 26}\n",
            "A is a subset of B: True\n",
            "A and B are disjoint sets: False\n",
            "A after updating with B: {19, 20, 22, 24, 25, 26, 27, 28}\n",
            "B after updating with A: {19, 20, 22, 24, 25, 26, 27, 28}\n",
            "Symmetric difference between A and B: set()\n",
            "Length of age list: 8\n",
            "Length of age set: 5\n"
          ]
        }
      ]
    },
    {
      "cell_type": "code",
      "source": [
        "class Employee:\n",
        "    # Class variable to count the number of Employees\n",
        "    employee_count = 0\n",
        "\n",
        "    def __init__(self, name, family, salary, department):\n",
        "        self.name = name\n",
        "        self.family = family\n",
        "        self.salary = salary\n",
        "        self.department = department\n",
        "        Employee.employee_count += 1\n",
        "\n",
        "    def average_salary(self, employees):\n",
        "        total_salary = sum(emp.salary for emp in employees)\n",
        "        return total_salary / len(employees)\n",
        "\n",
        "class FulltimeEmployee(Employee):\n",
        "    pass  # No additional properties or methods for now\n",
        "\n",
        "# Creating instances of Employee class\n",
        "employee1 = Employee(\"John Doe\", \"Doe Family\", 60000, \"HR\")\n",
        "employee2 = Employee(\"Jane Smith\", \"Smith Family\", 75000, \"Engineering\")\n",
        "\n",
        "# Creating instances of FulltimeEmployee class\n",
        "fulltime_employee1 = FulltimeEmployee(\"Alice Johnson\", \"Johnson Family\", 80000, \"Marketing\")\n",
        "fulltime_employee2 = FulltimeEmployee(\"Bob Williams\", \"Williams Family\", 90000, \"Finance\")\n",
        "\n",
        "# Calling member functions\n",
        "employees = [employee1, employee2, fulltime_employee1, fulltime_employee2]\n",
        "\n",
        "# Calling average_salary on an instance of Employee class\n",
        "avg_salary = employee1.average_salary(employees)\n",
        "print(\"Average salary of all employees:\", avg_salary)\n",
        "\n",
        "print(\"Total number of employees:\", Employee.employee_count)\n"
      ],
      "metadata": {
        "colab": {
          "base_uri": "https://localhost:8080/"
        },
        "id": "XUsPIf48-pXU",
        "outputId": "2ddae64c-4be4-4d67-a00d-ae84bdea737b"
      },
      "execution_count": 2,
      "outputs": [
        {
          "output_type": "stream",
          "name": "stdout",
          "text": [
            "Average salary of all employees: 76250.0\n",
            "Total number of employees: 4\n"
          ]
        }
      ]
    }
  ]
}